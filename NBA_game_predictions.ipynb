{
  "nbformat": 4,
  "nbformat_minor": 0,
  "metadata": {
    "colab": {
      "name": "NBA game predictions",
      "provenance": [],
      "toc_visible": true,
      "include_colab_link": true
    },
    "kernelspec": {
      "name": "python3",
      "display_name": "Python 3"
    },
    "accelerator": "TPU"
  },
  "cells": [
    {
      "cell_type": "markdown",
      "metadata": {
        "id": "view-in-github",
        "colab_type": "text"
      },
      "source": [
        "<a href=\"https://colab.research.google.com/github/andrewsiefert/nba_prediction/blob/master/NBA_game_predictions.ipynb\" target=\"_parent\"><img src=\"https://colab.research.google.com/assets/colab-badge.svg\" alt=\"Open In Colab\"/></a>"
      ]
    },
    {
      "cell_type": "markdown",
      "metadata": {
        "id": "KYlvW3-AUcdz",
        "colab_type": "text"
      },
      "source": [
        "## Import packages"
      ]
    },
    {
      "cell_type": "code",
      "metadata": {
        "id": "7edLIlGUd2zs",
        "colab_type": "code",
        "colab": {}
      },
      "source": [
        "import numpy as np\n",
        "import pandas as pd\n",
        "from google.colab import files\n",
        "import io\n",
        "import datetime"
      ],
      "execution_count": null,
      "outputs": []
    },
    {
      "cell_type": "markdown",
      "metadata": {
        "id": "cv7Y9o6kUi1G",
        "colab_type": "text"
      },
      "source": [
        "## Upload game data"
      ]
    },
    {
      "cell_type": "code",
      "metadata": {
        "id": "iyz33HFHd64l",
        "colab_type": "code",
        "colab": {
          "resources": {
            "http://localhost:8080/nbextensions/google.colab/files.js": {
              "data": "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",
              "ok": true,
              "headers": [
                [
                  "content-type",
                  "application/javascript"
                ]
              ],
              "status": 200,
              "status_text": "OK"
            }
          },
          "base_uri": "https://localhost:8080/",
          "height": 75
        },
        "outputId": "ea3d4082-d4a7-4b2b-fa64-f073a5372229"
      },
      "source": [
        "uploaded = files.upload()"
      ],
      "execution_count": null,
      "outputs": [
        {
          "output_type": "display_data",
          "data": {
            "text/html": [
              "\n",
              "     <input type=\"file\" id=\"files-a7428303-67bc-475c-8c24-d4aea13478a6\" name=\"files[]\" multiple disabled\n",
              "        style=\"border:none\" />\n",
              "     <output id=\"result-a7428303-67bc-475c-8c24-d4aea13478a6\">\n",
              "      Upload widget is only available when the cell has been executed in the\n",
              "      current browser session. Please rerun this cell to enable.\n",
              "      </output>\n",
              "      <script src=\"/nbextensions/google.colab/files.js\"></script> "
            ],
            "text/plain": [
              "<IPython.core.display.HTML object>"
            ]
          },
          "metadata": {
            "tags": []
          }
        },
        {
          "output_type": "stream",
          "text": [
            "Saving games.csv to games.csv\n"
          ],
          "name": "stdout"
        }
      ]
    },
    {
      "cell_type": "code",
      "metadata": {
        "id": "xEHhUK7W5o1q",
        "colab_type": "code",
        "colab": {
          "base_uri": "https://localhost:8080/",
          "height": 206
        },
        "outputId": "5ab4dda0-a05f-43a5-e5a9-54f8d771a69f"
      },
      "source": [
        "games = pd.read_csv(io.BytesIO(uploaded['games.csv']), parse_dates = ['start_time']).drop('Unnamed: 0', axis = 1)\n",
        "games = games.loc[games.season > 2015]\n",
        "games.head()"
      ],
      "execution_count": null,
      "outputs": [
        {
          "output_type": "execute_result",
          "data": {
            "text/html": [
              "<div>\n",
              "<style scoped>\n",
              "    .dataframe tbody tr th:only-of-type {\n",
              "        vertical-align: middle;\n",
              "    }\n",
              "\n",
              "    .dataframe tbody tr th {\n",
              "        vertical-align: top;\n",
              "    }\n",
              "\n",
              "    .dataframe thead th {\n",
              "        text-align: right;\n",
              "    }\n",
              "</style>\n",
              "<table border=\"1\" class=\"dataframe\">\n",
              "  <thead>\n",
              "    <tr style=\"text-align: right;\">\n",
              "      <th></th>\n",
              "      <th>away_team</th>\n",
              "      <th>away_team_score</th>\n",
              "      <th>home_team</th>\n",
              "      <th>home_team_score</th>\n",
              "      <th>season</th>\n",
              "      <th>start_time</th>\n",
              "    </tr>\n",
              "  </thead>\n",
              "  <tbody>\n",
              "    <tr>\n",
              "      <th>7641</th>\n",
              "      <td>detroit_pistons</td>\n",
              "      <td>106</td>\n",
              "      <td>atlanta_hawks</td>\n",
              "      <td>94</td>\n",
              "      <td>2016</td>\n",
              "      <td>2015-10-28 00:00:00+00:00</td>\n",
              "    </tr>\n",
              "    <tr>\n",
              "      <th>7642</th>\n",
              "      <td>cleveland_cavaliers</td>\n",
              "      <td>95</td>\n",
              "      <td>chicago_bulls</td>\n",
              "      <td>97</td>\n",
              "      <td>2016</td>\n",
              "      <td>2015-10-28 00:00:00+00:00</td>\n",
              "    </tr>\n",
              "    <tr>\n",
              "      <th>7643</th>\n",
              "      <td>new_orleans_pelicans</td>\n",
              "      <td>95</td>\n",
              "      <td>golden_state_warriors</td>\n",
              "      <td>111</td>\n",
              "      <td>2016</td>\n",
              "      <td>2015-10-28 02:30:00+00:00</td>\n",
              "    </tr>\n",
              "    <tr>\n",
              "      <th>7644</th>\n",
              "      <td>philadelphia_76ers</td>\n",
              "      <td>95</td>\n",
              "      <td>boston_celtics</td>\n",
              "      <td>112</td>\n",
              "      <td>2016</td>\n",
              "      <td>2015-10-28 23:30:00+00:00</td>\n",
              "    </tr>\n",
              "    <tr>\n",
              "      <th>7645</th>\n",
              "      <td>chicago_bulls</td>\n",
              "      <td>115</td>\n",
              "      <td>brooklyn_nets</td>\n",
              "      <td>100</td>\n",
              "      <td>2016</td>\n",
              "      <td>2015-10-28 23:30:00+00:00</td>\n",
              "    </tr>\n",
              "  </tbody>\n",
              "</table>\n",
              "</div>"
            ],
            "text/plain": [
              "                 away_team  away_team_score  ... season                start_time\n",
              "7641       detroit_pistons              106  ...   2016 2015-10-28 00:00:00+00:00\n",
              "7642   cleveland_cavaliers               95  ...   2016 2015-10-28 00:00:00+00:00\n",
              "7643  new_orleans_pelicans               95  ...   2016 2015-10-28 02:30:00+00:00\n",
              "7644    philadelphia_76ers               95  ...   2016 2015-10-28 23:30:00+00:00\n",
              "7645         chicago_bulls              115  ...   2016 2015-10-28 23:30:00+00:00\n",
              "\n",
              "[5 rows x 6 columns]"
            ]
          },
          "metadata": {
            "tags": []
          },
          "execution_count": 5
        }
      ]
    },
    {
      "cell_type": "markdown",
      "metadata": {
        "id": "8Rds-zdxUmlZ",
        "colab_type": "text"
      },
      "source": [
        "## Data prep\n",
        "\n",
        "### Get game day of year"
      ]
    },
    {
      "cell_type": "code",
      "metadata": {
        "id": "uBAXpP-61B7I",
        "colab_type": "code",
        "colab": {
          "base_uri": "https://localhost:8080/",
          "height": 283
        },
        "outputId": "b7447ce0-5906-48a4-cede-4a7eeb18b319"
      },
      "source": [
        "games['start_day'] = games['start_time'].dt.dayofyear\n",
        "games.start_day.hist()"
      ],
      "execution_count": null,
      "outputs": [
        {
          "output_type": "execute_result",
          "data": {
            "text/plain": [
              "<matplotlib.axes._subplots.AxesSubplot at 0x7f6f6d787dd8>"
            ]
          },
          "metadata": {
            "tags": []
          },
          "execution_count": 6
        },
        {
          "output_type": "display_data",
          "data": {
            "image/png": "[encoded data removed]",
            "text/plain": [
              "<Figure size 432x288 with 1 Axes>"
            ]
          },
          "metadata": {
            "tags": [],
            "needs_background": "light"
          }
        }
      ]
    },
    {
      "cell_type": "markdown",
      "metadata": {
        "id": "XoF9shrjU59Q",
        "colab_type": "text"
      },
      "source": [
        "### Normalize scores"
      ]
    },
    {
      "cell_type": "code",
      "metadata": {
        "id": "a4wE6G4k6ZuM",
        "colab_type": "code",
        "colab": {}
      },
      "source": [
        "from sklearn import preprocessing\n",
        "\n",
        "scores = games[['away_team_score', 'home_team_score']]\n",
        "min_max_scaler = preprocessing.MinMaxScaler()\n",
        "scaled_scores = min_max_scaler.fit_transform(scores)\n",
        "games['away_team_score_scaled'] = scaled_scores[:,0]\n",
        "games['home_team_score_scaled'] = scaled_scores[:,1]"
      ],
      "execution_count": null,
      "outputs": []
    },
    {
      "cell_type": "markdown",
      "metadata": {
        "id": "6KCNBL-AU9_r",
        "colab_type": "text"
      },
      "source": [
        "### Create one row per team per game"
      ]
    },
    {
      "cell_type": "code",
      "metadata": {
        "id": "8PXnvxJD206a",
        "colab_type": "code",
        "colab": {}
      },
      "source": [
        "teams = games['home_team'].unique().tolist()\n",
        "\n",
        "all_games = pd.DataFrame()\n",
        "\n",
        "for team in teams:\n",
        "    \n",
        "    # make rows for team's home games\n",
        "    home_games = games[games['home_team']==team]\n",
        "    home_games.rename(index = str, columns = {'home_team':'team', 'away_team':'opponent', 'home_team_score':'score', 'away_team_score':'opponent_score'}, inplace = True)\n",
        "    home_games['home'] = 1\n",
        "\n",
        "    # make rows for team's away games\n",
        "    away_games = games[games['away_team']==team]\n",
        "    away_games.rename(index = str, columns = {'away_team':'team', 'home_team':'opponent', 'away_team_score':'score', 'home_team_score':'opponent_score'}, inplace = True)\n",
        "    away_games['home'] = 0\n",
        "\n",
        "    # combine home and away games\n",
        "    g = pd.concat([home_games, away_games], join = \"inner\").sort_values('start_time')\n",
        "\n",
        "    # get game of season\n",
        "    g['game'] = g.groupby('season')['season'].transform(lambda x: np.arange(1, len(x)+1))\n",
        "\n",
        "    # get game outcomes (1 = win, 0 = loss)\n",
        "    g['outcome'] = ((g.score - g.opponent_score) > 0).astype('int')\n",
        "\n",
        "    # get team's rest days\n",
        "    g['rest'] = (g.start_time - g.start_time.shift(periods = 1)).dt.total_seconds() / (24 * 60 * 60)\n",
        "    g.loc[g.game == 1, 'rest'] = np.NaN\n",
        "\n",
        "    # get team's point differential and wins/losses\n",
        "    g['margin'] = g.score - g.opponent_score\n",
        "    g['point_diff_sum'] = g.groupby('season', group_keys = False).apply(lambda x: x['margin'].cumsum().shift(periods = 1))\n",
        "    g['point_diff'] = g.point_diff_sum / (g.game-1)\n",
        "    g['wins'] = g.groupby('season', group_keys = False).apply(lambda x: x['outcome'].cumsum().shift(periods = 1))\n",
        "    g['losses'] = g.game - g.wins - 1\n",
        "    g['winning_pct'] = g['wins']/(g['game'] - 1)\n",
        "    \n",
        "    # append team's games to all games data frame\n",
        "    all_games = all_games.append(g, ignore_index = True)\n",
        "    "
      ],
      "execution_count": null,
      "outputs": []
    },
    {
      "cell_type": "code",
      "metadata": {
        "id": "3khQRqeV3Fgi",
        "colab_type": "code",
        "colab": {
          "base_uri": "https://localhost:8080/",
          "height": 623
        },
        "outputId": "e8c41407-27f3-45bd-eeb3-570a5b367867"
      },
      "source": [
        "# winning percentages\n",
        "print(all_games.shape)\n",
        "print(all_games.groupby('team')['outcome'].mean().sort_values(ascending = False))"
      ],
      "execution_count": 107,
      "outputs": [
        {
          "output_type": "stream",
          "text": [
            "(7874, 24)\n",
            "team\n",
            "golden_state_warriors     0.795455\n",
            "san_antonio_spurs         0.685921\n",
            "cleveland_cavaliers       0.648208\n",
            "toronto_raptors           0.643357\n",
            "houston_rockets           0.641577\n",
            "boston_celtics            0.615917\n",
            "oklahoma_city_thunder     0.596364\n",
            "los_angeles_clippers      0.583012\n",
            "utah_jazz                 0.552239\n",
            "washington_wizards        0.535849\n",
            "indiana_pacers            0.534091\n",
            "miami_heat                0.532075\n",
            "portland_trail_blazers    0.524528\n",
            "charlotte_hornets         0.486166\n",
            "denver_nuggets            0.483740\n",
            "detroit_pistons           0.480000\n",
            "milwaukee_bucks           0.478764\n",
            "atlanta_hawks             0.461832\n",
            "new_orleans_pelicans      0.458824\n",
            "chicago_bulls             0.444444\n",
            "minnesota_timberwolves    0.430279\n",
            "memphis_grizzlies         0.425781\n",
            "dallas_mavericks          0.398406\n",
            "new_york_knicks           0.373984\n",
            "sacramento_kings          0.373984\n",
            "philadelphia_76ers        0.371094\n",
            "orlando_magic             0.361789\n",
            "los_angeles_lakers        0.317073\n",
            "brooklyn_nets             0.280488\n",
            "phoenix_suns              0.276423\n",
            "Name: outcome, dtype: float64\n"
          ],
          "name": "stdout"
        }
      ]
    },
    {
      "cell_type": "markdown",
      "metadata": {
        "id": "e-VwKX4-3DS2",
        "colab_type": "text"
      },
      "source": [
        "### Add opponent info"
      ]
    },
    {
      "cell_type": "code",
      "metadata": {
        "id": "WJ1AnN4njSTD",
        "colab_type": "code",
        "colab": {
          "base_uri": "https://localhost:8080/",
          "height": 313
        },
        "outputId": "0e02e65a-50b0-4479-e236-6b30eae1b88e"
      },
      "source": [
        "all_games.loc[:, 'opponent_point_diff'] = np.NaN\n",
        "all_games.loc[:, 'opponent_wins']= np.NaN\n",
        "all_games.loc[:, 'opponent_losses']= np.NaN\n",
        "all_games.loc[:, 'opponent_win_pct']= np.NaN\n",
        "all_games.loc[:, 'opponent_rest']= np.NaN\n",
        "\n",
        "for ind, g in all_games.iterrows():\n",
        "  opponent = all_games.loc[(all_games.team == g.opponent) & (all_games.start_time == g.start_time),:]\n",
        "  all_games.at[ind, 'opponent_point_diff'] = opponent['point_diff']\n",
        "  all_games.at[ind, 'opponent_wins'] = opponent['wins']\n",
        "  all_games.at[ind, 'opponent_losses'] = opponent['losses']\n",
        "  all_games.at[ind, 'opponent_win_pct'] = opponent['winning_pct']\n",
        "  all_games.at[ind, 'opponent_rest'] = opponent['rest']\n",
        "\n",
        "all_games = all_games.fillna(0)\n",
        "all_games.head()"
      ],
      "execution_count": null,
      "outputs": [
        {
          "output_type": "execute_result",
          "data": {
            "text/html": [
              "<div>\n",
              "<style scoped>\n",
              "    .dataframe tbody tr th:only-of-type {\n",
              "        vertical-align: middle;\n",
              "    }\n",
              "\n",
              "    .dataframe tbody tr th {\n",
              "        vertical-align: top;\n",
              "    }\n",
              "\n",
              "    .dataframe thead th {\n",
              "        text-align: right;\n",
              "    }\n",
              "</style>\n",
              "<table border=\"1\" class=\"dataframe\">\n",
              "  <thead>\n",
              "    <tr style=\"text-align: right;\">\n",
              "      <th></th>\n",
              "      <th>opponent</th>\n",
              "      <th>opponent_score</th>\n",
              "      <th>team</th>\n",
              "      <th>score</th>\n",
              "      <th>season</th>\n",
              "      <th>start_time</th>\n",
              "      <th>start_day</th>\n",
              "      <th>away_team_score_scaled</th>\n",
              "      <th>home_team_score_scaled</th>\n",
              "      <th>home</th>\n",
              "      <th>game</th>\n",
              "      <th>outcome</th>\n",
              "      <th>rest</th>\n",
              "      <th>margin</th>\n",
              "      <th>point_diff_sum</th>\n",
              "      <th>point_diff</th>\n",
              "      <th>wins</th>\n",
              "      <th>losses</th>\n",
              "      <th>winning_pct</th>\n",
              "      <th>opponent_point_diff</th>\n",
              "      <th>opponent_wins</th>\n",
              "      <th>opponent_losses</th>\n",
              "      <th>opponent_win_pct</th>\n",
              "      <th>opponent_rest</th>\n",
              "    </tr>\n",
              "  </thead>\n",
              "  <tbody>\n",
              "    <tr>\n",
              "      <th>0</th>\n",
              "      <td>detroit_pistons</td>\n",
              "      <td>106</td>\n",
              "      <td>atlanta_hawks</td>\n",
              "      <td>94</td>\n",
              "      <td>2016</td>\n",
              "      <td>2015-10-28 00:00:00+00:00</td>\n",
              "      <td>301</td>\n",
              "      <td>0.475</td>\n",
              "      <td>0.352941</td>\n",
              "      <td>1</td>\n",
              "      <td>1</td>\n",
              "      <td>0</td>\n",
              "      <td>0.000000</td>\n",
              "      <td>-12</td>\n",
              "      <td>0.0</td>\n",
              "      <td>0.000000</td>\n",
              "      <td>0.0</td>\n",
              "      <td>0.0</td>\n",
              "      <td>0.000000</td>\n",
              "      <td>0.000000</td>\n",
              "      <td>0.0</td>\n",
              "      <td>0.0</td>\n",
              "      <td>0.000000</td>\n",
              "      <td>0.000000</td>\n",
              "    </tr>\n",
              "    <tr>\n",
              "      <th>1</th>\n",
              "      <td>new_york_knicks</td>\n",
              "      <td>101</td>\n",
              "      <td>atlanta_hawks</td>\n",
              "      <td>112</td>\n",
              "      <td>2016</td>\n",
              "      <td>2015-10-30 00:00:00+00:00</td>\n",
              "      <td>303</td>\n",
              "      <td>0.550</td>\n",
              "      <td>0.435294</td>\n",
              "      <td>0</td>\n",
              "      <td>2</td>\n",
              "      <td>1</td>\n",
              "      <td>2.000000</td>\n",
              "      <td>11</td>\n",
              "      <td>-12.0</td>\n",
              "      <td>-12.000000</td>\n",
              "      <td>0.0</td>\n",
              "      <td>1.0</td>\n",
              "      <td>0.000000</td>\n",
              "      <td>25.000000</td>\n",
              "      <td>1.0</td>\n",
              "      <td>0.0</td>\n",
              "      <td>1.000000</td>\n",
              "      <td>1.000000</td>\n",
              "    </tr>\n",
              "    <tr>\n",
              "      <th>2</th>\n",
              "      <td>charlotte_hornets</td>\n",
              "      <td>94</td>\n",
              "      <td>atlanta_hawks</td>\n",
              "      <td>97</td>\n",
              "      <td>2016</td>\n",
              "      <td>2015-10-31 00:00:00+00:00</td>\n",
              "      <td>304</td>\n",
              "      <td>0.325</td>\n",
              "      <td>0.388235</td>\n",
              "      <td>1</td>\n",
              "      <td>3</td>\n",
              "      <td>1</td>\n",
              "      <td>1.000000</td>\n",
              "      <td>3</td>\n",
              "      <td>-1.0</td>\n",
              "      <td>-0.500000</td>\n",
              "      <td>1.0</td>\n",
              "      <td>1.0</td>\n",
              "      <td>0.500000</td>\n",
              "      <td>-10.000000</td>\n",
              "      <td>0.0</td>\n",
              "      <td>1.0</td>\n",
              "      <td>0.000000</td>\n",
              "      <td>2.020833</td>\n",
              "    </tr>\n",
              "    <tr>\n",
              "      <th>3</th>\n",
              "      <td>charlotte_hornets</td>\n",
              "      <td>92</td>\n",
              "      <td>atlanta_hawks</td>\n",
              "      <td>94</td>\n",
              "      <td>2016</td>\n",
              "      <td>2015-11-01 19:00:00+00:00</td>\n",
              "      <td>305</td>\n",
              "      <td>0.325</td>\n",
              "      <td>0.329412</td>\n",
              "      <td>0</td>\n",
              "      <td>4</td>\n",
              "      <td>1</td>\n",
              "      <td>1.791667</td>\n",
              "      <td>2</td>\n",
              "      <td>2.0</td>\n",
              "      <td>0.666667</td>\n",
              "      <td>2.0</td>\n",
              "      <td>1.0</td>\n",
              "      <td>0.666667</td>\n",
              "      <td>-6.500000</td>\n",
              "      <td>0.0</td>\n",
              "      <td>2.0</td>\n",
              "      <td>0.000000</td>\n",
              "      <td>1.791667</td>\n",
              "    </tr>\n",
              "    <tr>\n",
              "      <th>4</th>\n",
              "      <td>miami_heat</td>\n",
              "      <td>92</td>\n",
              "      <td>atlanta_hawks</td>\n",
              "      <td>98</td>\n",
              "      <td>2016</td>\n",
              "      <td>2015-11-04 00:30:00+00:00</td>\n",
              "      <td>308</td>\n",
              "      <td>0.375</td>\n",
              "      <td>0.329412</td>\n",
              "      <td>0</td>\n",
              "      <td>5</td>\n",
              "      <td>1</td>\n",
              "      <td>2.229167</td>\n",
              "      <td>6</td>\n",
              "      <td>4.0</td>\n",
              "      <td>1.000000</td>\n",
              "      <td>3.0</td>\n",
              "      <td>1.0</td>\n",
              "      <td>0.750000</td>\n",
              "      <td>6.666667</td>\n",
              "      <td>2.0</td>\n",
              "      <td>1.0</td>\n",
              "      <td>0.666667</td>\n",
              "      <td>2.062500</td>\n",
              "    </tr>\n",
              "  </tbody>\n",
              "</table>\n",
              "</div>"
            ],
            "text/plain": [
              "            opponent  opponent_score  ... opponent_win_pct  opponent_rest\n",
              "0    detroit_pistons             106  ...         0.000000       0.000000\n",
              "1    new_york_knicks             101  ...         1.000000       1.000000\n",
              "2  charlotte_hornets              94  ...         0.000000       2.020833\n",
              "3  charlotte_hornets              92  ...         0.000000       1.791667\n",
              "4         miami_heat              92  ...         0.666667       2.062500\n",
              "\n",
              "[5 rows x 24 columns]"
            ]
          },
          "metadata": {
            "tags": []
          },
          "execution_count": 16
        }
      ]
    },
    {
      "cell_type": "markdown",
      "metadata": {
        "id": "uWnUG3cc3LZ1",
        "colab_type": "text"
      },
      "source": [
        "### Standardize features"
      ]
    },
    {
      "cell_type": "code",
      "metadata": {
        "id": "GppQPTVCu8sV",
        "colab_type": "code",
        "colab": {
          "base_uri": "https://localhost:8080/",
          "height": 313
        },
        "outputId": "999696aa-dd1f-4a53-af04-6d5a37a0a49e"
      },
      "source": [
        "from sklearn.preprocessing import StandardScaler\n",
        "\n",
        "z_scaler = StandardScaler()\n",
        "\n",
        "features = ['score', 'opponent_score', 'home', 'rest', 'opponent_rest', 'opponent_point_diff', 'opponent_win_pct'] \n",
        "\n",
        "all_games_scaled = all_games.copy()\n",
        "all_games_scaled[features] = z_scaler.fit_transform(all_games_scaled[features])\n",
        "\n",
        "all_games_scaled.head()"
      ],
      "execution_count": null,
      "outputs": [
        {
          "output_type": "execute_result",
          "data": {
            "text/html": [
              "<div>\n",
              "<style scoped>\n",
              "    .dataframe tbody tr th:only-of-type {\n",
              "        vertical-align: middle;\n",
              "    }\n",
              "\n",
              "    .dataframe tbody tr th {\n",
              "        vertical-align: top;\n",
              "    }\n",
              "\n",
              "    .dataframe thead th {\n",
              "        text-align: right;\n",
              "    }\n",
              "</style>\n",
              "<table border=\"1\" class=\"dataframe\">\n",
              "  <thead>\n",
              "    <tr style=\"text-align: right;\">\n",
              "      <th></th>\n",
              "      <th>opponent</th>\n",
              "      <th>opponent_score</th>\n",
              "      <th>team</th>\n",
              "      <th>score</th>\n",
              "      <th>season</th>\n",
              "      <th>start_time</th>\n",
              "      <th>start_day</th>\n",
              "      <th>away_team_score_scaled</th>\n",
              "      <th>home_team_score_scaled</th>\n",
              "      <th>home</th>\n",
              "      <th>game</th>\n",
              "      <th>outcome</th>\n",
              "      <th>rest</th>\n",
              "      <th>margin</th>\n",
              "      <th>point_diff_sum</th>\n",
              "      <th>point_diff</th>\n",
              "      <th>wins</th>\n",
              "      <th>losses</th>\n",
              "      <th>winning_pct</th>\n",
              "      <th>opponent_point_diff</th>\n",
              "      <th>opponent_wins</th>\n",
              "      <th>opponent_losses</th>\n",
              "      <th>opponent_win_pct</th>\n",
              "      <th>opponent_rest</th>\n",
              "    </tr>\n",
              "  </thead>\n",
              "  <tbody>\n",
              "    <tr>\n",
              "      <th>0</th>\n",
              "      <td>detroit_pistons</td>\n",
              "      <td>0.101490</td>\n",
              "      <td>atlanta_hawks</td>\n",
              "      <td>-0.888656</td>\n",
              "      <td>2016</td>\n",
              "      <td>2015-10-28 00:00:00+00:00</td>\n",
              "      <td>301</td>\n",
              "      <td>0.475</td>\n",
              "      <td>0.352941</td>\n",
              "      <td>1.0</td>\n",
              "      <td>1</td>\n",
              "      <td>0</td>\n",
              "      <td>-2.006727</td>\n",
              "      <td>-12</td>\n",
              "      <td>0.0</td>\n",
              "      <td>0.000000</td>\n",
              "      <td>0.0</td>\n",
              "      <td>0.0</td>\n",
              "      <td>0.000000</td>\n",
              "      <td>-0.049082</td>\n",
              "      <td>0.0</td>\n",
              "      <td>0.0</td>\n",
              "      <td>-2.660584</td>\n",
              "      <td>-2.006727</td>\n",
              "    </tr>\n",
              "    <tr>\n",
              "      <th>1</th>\n",
              "      <td>new_york_knicks</td>\n",
              "      <td>-0.311071</td>\n",
              "      <td>atlanta_hawks</td>\n",
              "      <td>0.596563</td>\n",
              "      <td>2016</td>\n",
              "      <td>2015-10-30 00:00:00+00:00</td>\n",
              "      <td>303</td>\n",
              "      <td>0.550</td>\n",
              "      <td>0.435294</td>\n",
              "      <td>-1.0</td>\n",
              "      <td>2</td>\n",
              "      <td>1</td>\n",
              "      <td>-0.108667</td>\n",
              "      <td>11</td>\n",
              "      <td>-12.0</td>\n",
              "      <td>-12.000000</td>\n",
              "      <td>0.0</td>\n",
              "      <td>1.0</td>\n",
              "      <td>0.000000</td>\n",
              "      <td>4.460406</td>\n",
              "      <td>1.0</td>\n",
              "      <td>0.0</td>\n",
              "      <td>2.624286</td>\n",
              "      <td>-1.057697</td>\n",
              "    </tr>\n",
              "    <tr>\n",
              "      <th>2</th>\n",
              "      <td>charlotte_hornets</td>\n",
              "      <td>-0.888656</td>\n",
              "      <td>atlanta_hawks</td>\n",
              "      <td>-0.641120</td>\n",
              "      <td>2016</td>\n",
              "      <td>2015-10-31 00:00:00+00:00</td>\n",
              "      <td>304</td>\n",
              "      <td>0.325</td>\n",
              "      <td>0.388235</td>\n",
              "      <td>1.0</td>\n",
              "      <td>3</td>\n",
              "      <td>1</td>\n",
              "      <td>-1.057697</td>\n",
              "      <td>3</td>\n",
              "      <td>-1.0</td>\n",
              "      <td>-0.500000</td>\n",
              "      <td>1.0</td>\n",
              "      <td>1.0</td>\n",
              "      <td>0.500000</td>\n",
              "      <td>-1.852877</td>\n",
              "      <td>0.0</td>\n",
              "      <td>1.0</td>\n",
              "      <td>-2.660584</td>\n",
              "      <td>-0.088896</td>\n",
              "    </tr>\n",
              "    <tr>\n",
              "      <th>3</th>\n",
              "      <td>charlotte_hornets</td>\n",
              "      <td>-1.053681</td>\n",
              "      <td>atlanta_hawks</td>\n",
              "      <td>-0.888656</td>\n",
              "      <td>2016</td>\n",
              "      <td>2015-11-01 19:00:00+00:00</td>\n",
              "      <td>305</td>\n",
              "      <td>0.325</td>\n",
              "      <td>0.329412</td>\n",
              "      <td>-1.0</td>\n",
              "      <td>4</td>\n",
              "      <td>1</td>\n",
              "      <td>-0.306382</td>\n",
              "      <td>2</td>\n",
              "      <td>2.0</td>\n",
              "      <td>0.666667</td>\n",
              "      <td>2.0</td>\n",
              "      <td>1.0</td>\n",
              "      <td>0.666667</td>\n",
              "      <td>-1.221549</td>\n",
              "      <td>0.0</td>\n",
              "      <td>2.0</td>\n",
              "      <td>-2.660584</td>\n",
              "      <td>-0.306382</td>\n",
              "    </tr>\n",
              "    <tr>\n",
              "      <th>4</th>\n",
              "      <td>miami_heat</td>\n",
              "      <td>-1.053681</td>\n",
              "      <td>atlanta_hawks</td>\n",
              "      <td>-0.558608</td>\n",
              "      <td>2016</td>\n",
              "      <td>2015-11-04 00:30:00+00:00</td>\n",
              "      <td>308</td>\n",
              "      <td>0.375</td>\n",
              "      <td>0.329412</td>\n",
              "      <td>-1.0</td>\n",
              "      <td>5</td>\n",
              "      <td>1</td>\n",
              "      <td>0.108818</td>\n",
              "      <td>6</td>\n",
              "      <td>4.0</td>\n",
              "      <td>1.000000</td>\n",
              "      <td>3.0</td>\n",
              "      <td>1.0</td>\n",
              "      <td>0.750000</td>\n",
              "      <td>1.153448</td>\n",
              "      <td>2.0</td>\n",
              "      <td>1.0</td>\n",
              "      <td>0.862663</td>\n",
              "      <td>-0.049353</td>\n",
              "    </tr>\n",
              "  </tbody>\n",
              "</table>\n",
              "</div>"
            ],
            "text/plain": [
              "            opponent  opponent_score  ... opponent_win_pct  opponent_rest\n",
              "0    detroit_pistons        0.101490  ...        -2.660584      -2.006727\n",
              "1    new_york_knicks       -0.311071  ...         2.624286      -1.057697\n",
              "2  charlotte_hornets       -0.888656  ...        -2.660584      -0.088896\n",
              "3  charlotte_hornets       -1.053681  ...        -2.660584      -0.306382\n",
              "4         miami_heat       -1.053681  ...         0.862663      -0.049353\n",
              "\n",
              "[5 rows x 24 columns]"
            ]
          },
          "metadata": {
            "tags": []
          },
          "execution_count": 17
        }
      ]
    },
    {
      "cell_type": "markdown",
      "metadata": {
        "id": "UL9PTbME3PRP",
        "colab_type": "text"
      },
      "source": [
        "### Create training sequences (last 20 games)"
      ]
    },
    {
      "cell_type": "code",
      "metadata": {
        "id": "c0Z1LQ5X-L1h",
        "colab_type": "code",
        "colab": {}
      },
      "source": [
        "# create training data (home and away team sequences: n games x sequence length (last 20 games) x features (score, opponent score, home/away)\n",
        "train_games = games.loc[games.start_day < 200].reset_index()\n",
        "\n",
        "n = train_games.shape[0]\n",
        "seq_len = 20\n",
        "n_features = len(features)\n",
        "X_home = np.zeros((n, seq_len, n_features), dtype = float)\n",
        "X_away = np.zeros((n, seq_len, n_features), dtype = float)\n",
        "y = np.zeros((n, 1))\n",
        "\n",
        "for index, game in train_games.iterrows():\n",
        "    \n",
        "  home_games = all_games_scaled.loc[(all_games_scaled.team == game.home_team) & (all_games_scaled.season== game.season) & (all_games_scaled.start_time <= game.start_time),:].iloc[-(seq_len+1):-1,:]\n",
        "  home_seq = np.zeros((seq_len, n_features))\n",
        "  for i in range(0, home_games.shape[0]):\n",
        "    home_seq[i] = home_games.iloc[i,:][features].tolist()\n",
        "    \n",
        "  away_games = all_games_scaled.loc[(all_games_scaled.team == game.away_team) & (all_games_scaled.season== game.season) & (all_games_scaled.start_time <= game.start_time),:].iloc[-(seq_len+1):-1,:]\n",
        "  away_seq = np.zeros((seq_len, n_features))\n",
        "  for i in range(0, away_games.shape[0]):\n",
        "    away_seq[i] = away_games.iloc[i,:][features].tolist()\n",
        "    \n",
        "  score = game.home_team_score - game.away_team_score\n",
        "    \n",
        "  X_home[index] = home_seq\n",
        "  X_away[index] = away_seq\n",
        "  y[index] = score\n"
      ],
      "execution_count": null,
      "outputs": []
    },
    {
      "cell_type": "code",
      "metadata": {
        "id": "U_bYC9nVAk4R",
        "colab_type": "code",
        "colab": {
          "base_uri": "https://localhost:8080/",
          "height": 72
        },
        "outputId": "c126a779-078d-4638-b981-afacf6ce8ecb"
      },
      "source": [
        "print(X_home.shape)\n",
        "print(X_away.shape)\n",
        "print(len(y))"
      ],
      "execution_count": null,
      "outputs": [
        {
          "output_type": "stream",
          "text": [
            "(2412, 20, 7)\n",
            "(2412, 20, 7)\n",
            "2412\n"
          ],
          "name": "stdout"
        }
      ]
    },
    {
      "cell_type": "code",
      "metadata": {
        "id": "ySuJHmmgxqAE",
        "colab_type": "code",
        "colab": {}
      },
      "source": [
        "X_home[100, :, 0]"
      ],
      "execution_count": null,
      "outputs": []
    },
    {
      "cell_type": "markdown",
      "metadata": {
        "id": "HxZE3SLwTRap",
        "colab_type": "text"
      },
      "source": [
        "### Create training sequences (all games w/ zero padding)"
      ]
    },
    {
      "cell_type": "code",
      "metadata": {
        "id": "ozMRUcMzScr_",
        "colab_type": "code",
        "colab": {}
      },
      "source": [
        "train_games = games.loc[games.start_day < 200].reset_index()\n",
        "n = train_games.shape[0]\n",
        "max_games = np.max(all_games.game)\n",
        "X_home = np.zeros((n, max_games, n_features), dtype = float)\n",
        "X_away = np.zeros((n, max_games, n_features), dtype = float)\n",
        "y = np.zeros((n, 1))\n",
        "\n",
        "for index, game in train_games.iterrows():\n",
        "    \n",
        "    home_games = all_games_scaled.loc[(all_games_scaled.team == game.home_team) & (all_games_scaled.season== game.season) & (all_games_scaled.start_time < game.start_time),:]\n",
        "    home_seq = np.zeros((max_games, n_features))\n",
        "    for i in range(0, home_games.shape[0]):\n",
        "        home_seq[i] = home_games.iloc[i,:][features].tolist()\n",
        "    \n",
        "    away_games = all_games_scaled.loc[(all_games_scaled.team == game.away_team) & (all_games_scaled.season== game.season) & (all_games_scaled.start_time < game.start_time),:]\n",
        "    away_seq = np.zeros((max_games, n_features))\n",
        "    for i in range(0, away_games.shape[0]):\n",
        "        away_seq[i] = away_games.iloc[i,:][features].tolist()\n",
        "    \n",
        "    score = game.home_team_score - game.away_team_score\n",
        "    \n",
        "    X_home[index] = home_seq\n",
        "    X_away[index] = away_seq\n",
        "    y[index] = score"
      ],
      "execution_count": null,
      "outputs": []
    },
    {
      "cell_type": "markdown",
      "metadata": {
        "id": "TwnKC-7E3T1m",
        "colab_type": "text"
      },
      "source": [
        "## Build models\n"
      ]
    },
    {
      "cell_type": "code",
      "metadata": {
        "id": "ZGrf0QUNvI4G",
        "colab_type": "code",
        "colab": {}
      },
      "source": [
        "from keras.layers import Input, LSTM, GRU, Dense, concatenate, Dropout\n",
        "from keras.models import Model\n",
        "from keras.callbacks import EarlyStopping\n",
        "\n",
        "    \n",
        "home_input = Input(shape=(20, n_features,), name='home_input')    \n",
        "away_input = Input(shape=(20, n_features,), name='away_input')    "
      ],
      "execution_count": null,
      "outputs": []
    },
    {
      "cell_type": "markdown",
      "metadata": {
        "id": "cRxEe88KuzvB",
        "colab_type": "text"
      },
      "source": [
        "### 4-unit LSTM, 4-unit dense"
      ]
    },
    {
      "cell_type": "code",
      "metadata": {
        "id": "kFPnTlxsDc8V",
        "colab_type": "code",
        "colab": {
          "base_uri": "https://localhost:8080/",
          "height": 421
        },
        "outputId": "7bea005d-01d3-4302-89e3-68e111f77161"
      },
      "source": [
        "lstm = LSTM(4, dropout=0.2)\n",
        "\n",
        "lstm_home = lstm(home_input)\n",
        "lstm_away = lstm(away_input)\n",
        "\n",
        "x = concatenate([lstm_home, lstm_away], axis = -1)\n",
        "x = Dense(4, activation = 'relu')(x)\n",
        "output = Dense(1, name='output')(x)\n",
        "\n",
        "m1 = Model(inputs=[home_input, away_input], outputs=[output])\n",
        "m1.summary()"
      ],
      "execution_count": null,
      "outputs": [
        {
          "output_type": "stream",
          "text": [
            "Model: \"model_17\"\n",
            "__________________________________________________________________________________________________\n",
            "Layer (type)                    Output Shape         Param #     Connected to                     \n",
            "==================================================================================================\n",
            "home_input (InputLayer)         (None, 20, 7)        0                                            \n",
            "__________________________________________________________________________________________________\n",
            "away_input (InputLayer)         (None, 20, 7)        0                                            \n",
            "__________________________________________________________________________________________________\n",
            "lstm_15 (LSTM)                  (None, 4)            192         home_input[0][0]                 \n",
            "                                                                 away_input[0][0]                 \n",
            "__________________________________________________________________________________________________\n",
            "concatenate_19 (Concatenate)    (None, 8)            0           lstm_15[0][0]                    \n",
            "                                                                 lstm_15[1][0]                    \n",
            "__________________________________________________________________________________________________\n",
            "dense_17 (Dense)                (None, 4)            36          concatenate_19[0][0]             \n",
            "__________________________________________________________________________________________________\n",
            "output (Dense)                  (None, 1)            5           dense_17[0][0]                   \n",
            "==================================================================================================\n",
            "Total params: 233\n",
            "Trainable params: 233\n",
            "Non-trainable params: 0\n",
            "__________________________________________________________________________________________________\n"
          ],
          "name": "stdout"
        }
      ]
    },
    {
      "cell_type": "code",
      "metadata": {
        "id": "DZOl7I2CDnJF",
        "colab_type": "code",
        "colab": {}
      },
      "source": [
        "# compile\n",
        "m1.compile(optimizer='adam', loss='mean_squared_error', metrics = ['mae'])\n",
        "\n",
        "# fit model\n",
        "h1 = m1.fit([X_home, X_away], [y], epochs=100, batch_size=32, validation_split = 0.2,\n",
        "                    callbacks = [EarlyStopping(monitor='val_mae', patience = 3, restore_best_weights=True)])"
      ],
      "execution_count": null,
      "outputs": []
    },
    {
      "cell_type": "markdown",
      "metadata": {
        "id": "mS6RDZJyvXYi",
        "colab_type": "text"
      },
      "source": [
        "### 4-unit GRU, 4-unit dense"
      ]
    },
    {
      "cell_type": "code",
      "metadata": {
        "id": "jYobp06Xvak4",
        "colab_type": "code",
        "colab": {
          "base_uri": "https://localhost:8080/",
          "height": 421
        },
        "outputId": "ca4c2c1d-e713-46e2-80a9-3f3a521b848c"
      },
      "source": [
        "gru = GRU(4)\n",
        "\n",
        "gru_home = lstm(home_input)\n",
        "gru_away = lstm(away_input)\n",
        "\n",
        "x = concatenate([gru_home, gru_away], axis = -1)\n",
        "x = Dense(4, activation = 'relu')(x)\n",
        "output = Dense(1, name='output')(x)\n",
        "\n",
        "m2 = Model(inputs=[home_input, away_input], outputs=[output])\n",
        "m2.summary()"
      ],
      "execution_count": 108,
      "outputs": [
        {
          "output_type": "stream",
          "text": [
            "Model: \"model_25\"\n",
            "__________________________________________________________________________________________________\n",
            "Layer (type)                    Output Shape         Param #     Connected to                     \n",
            "==================================================================================================\n",
            "home_input (InputLayer)         (None, 20, 7)        0                                            \n",
            "__________________________________________________________________________________________________\n",
            "away_input (InputLayer)         (None, 20, 7)        0                                            \n",
            "__________________________________________________________________________________________________\n",
            "lstm_15 (LSTM)                  (None, 4)            192         home_input[0][0]                 \n",
            "                                                                 away_input[0][0]                 \n",
            "__________________________________________________________________________________________________\n",
            "concatenate_27 (Concatenate)    (None, 8)            0           lstm_15[8][0]                    \n",
            "                                                                 lstm_15[9][0]                    \n",
            "__________________________________________________________________________________________________\n",
            "dense_25 (Dense)                (None, 4)            36          concatenate_27[0][0]             \n",
            "__________________________________________________________________________________________________\n",
            "output (Dense)                  (None, 1)            5           dense_25[0][0]                   \n",
            "==================================================================================================\n",
            "Total params: 233\n",
            "Trainable params: 233\n",
            "Non-trainable params: 0\n",
            "__________________________________________________________________________________________________\n"
          ],
          "name": "stdout"
        }
      ]
    },
    {
      "cell_type": "code",
      "metadata": {
        "id": "EPv2aD_5vqv9",
        "colab_type": "code",
        "colab": {}
      },
      "source": [
        "m2.compile(optimizer='adam', loss='mean_squared_error', metrics = ['mae'])\n",
        "\n",
        "# fit model\n",
        "h2 = m2.fit([X_home, X_away], [y], epochs=100, batch_size=32, validation_split = 0.2,\n",
        "                    callbacks = [EarlyStopping(monitor='val_mae', patience = 3, restore_best_weights=True)])"
      ],
      "execution_count": null,
      "outputs": []
    },
    {
      "cell_type": "markdown",
      "metadata": {
        "id": "xqZT1DauwCYq",
        "colab_type": "text"
      },
      "source": [
        "###8-unit GRU, 4-unit dense"
      ]
    },
    {
      "cell_type": "code",
      "metadata": {
        "colab_type": "code",
        "id": "4QGOb5IAv5J2",
        "colab": {
          "base_uri": "https://localhost:8080/",
          "height": 421
        },
        "outputId": "a3fff874-8df3-451a-c16c-d520473cd76e"
      },
      "source": [
        "gru = GRU(8)\n",
        "\n",
        "gru_home = gru(home_input)\n",
        "gru_away = gru(away_input)\n",
        "\n",
        "x = concatenate([gru_home, gru_away], axis = -1)\n",
        "x = Dense(4, activation = 'relu')(x)\n",
        "output = Dense(1, name='output')(x)\n",
        "\n",
        "m2 = Model(inputs=[home_input, away_input], outputs=[output])\n",
        "m2.summary()"
      ],
      "execution_count": null,
      "outputs": [
        {
          "output_type": "stream",
          "text": [
            "Model: \"model_21\"\n",
            "__________________________________________________________________________________________________\n",
            "Layer (type)                    Output Shape         Param #     Connected to                     \n",
            "==================================================================================================\n",
            "home_input (InputLayer)         (None, 20, 7)        0                                            \n",
            "__________________________________________________________________________________________________\n",
            "away_input (InputLayer)         (None, 20, 7)        0                                            \n",
            "__________________________________________________________________________________________________\n",
            "gru_8 (GRU)                     (None, 8)            384         home_input[0][0]                 \n",
            "                                                                 away_input[0][0]                 \n",
            "__________________________________________________________________________________________________\n",
            "concatenate_23 (Concatenate)    (None, 16)           0           gru_8[0][0]                      \n",
            "                                                                 gru_8[1][0]                      \n",
            "__________________________________________________________________________________________________\n",
            "dense_21 (Dense)                (None, 4)            68          concatenate_23[0][0]             \n",
            "__________________________________________________________________________________________________\n",
            "output (Dense)                  (None, 1)            5           dense_21[0][0]                   \n",
            "==================================================================================================\n",
            "Total params: 457\n",
            "Trainable params: 457\n",
            "Non-trainable params: 0\n",
            "__________________________________________________________________________________________________\n"
          ],
          "name": "stdout"
        }
      ]
    },
    {
      "cell_type": "code",
      "metadata": {
        "colab_type": "code",
        "id": "MdvBEBQ3v5KT",
        "colab": {}
      },
      "source": [
        "m2.compile(optimizer='adam', loss='mean_squared_error', metrics = ['mae'])\n",
        "\n",
        "# fit model\n",
        "h2 = m2.fit([X_home, X_away], [y], epochs=100, batch_size=32, validation_split = 0.2,\n",
        "                    callbacks = [EarlyStopping(monitor='val_mae', patience = 3, restore_best_weights=True)])"
      ],
      "execution_count": null,
      "outputs": []
    },
    {
      "cell_type": "markdown",
      "metadata": {
        "id": "Ij5ZWBd9wbyt",
        "colab_type": "text"
      },
      "source": [
        "###8-unit GRU w/ dropout, 4-unit dense"
      ]
    },
    {
      "cell_type": "code",
      "metadata": {
        "colab_type": "code",
        "id": "_2vVf3Frwfdr",
        "colab": {
          "base_uri": "https://localhost:8080/",
          "height": 421
        },
        "outputId": "b8184d8f-0530-4efb-a973-b0088482a482"
      },
      "source": [
        "gru = GRU(8, dropout=0.2)\n",
        "\n",
        "gru_home = gru(home_input)\n",
        "gru_away = gru(away_input)\n",
        "\n",
        "x = concatenate([gru_home, gru_away], axis = -1)\n",
        "x = Dense(4, activation = 'relu')(x)\n",
        "output = Dense(1, name='output')(x)\n",
        "\n",
        "m3 = Model(inputs=[home_input, away_input], outputs=[output])\n",
        "m3.summary()"
      ],
      "execution_count": null,
      "outputs": [
        {
          "output_type": "stream",
          "text": [
            "Model: \"model_23\"\n",
            "__________________________________________________________________________________________________\n",
            "Layer (type)                    Output Shape         Param #     Connected to                     \n",
            "==================================================================================================\n",
            "home_input (InputLayer)         (None, 20, 7)        0                                            \n",
            "__________________________________________________________________________________________________\n",
            "away_input (InputLayer)         (None, 20, 7)        0                                            \n",
            "__________________________________________________________________________________________________\n",
            "gru_10 (GRU)                    (None, 8)            384         home_input[0][0]                 \n",
            "                                                                 away_input[0][0]                 \n",
            "__________________________________________________________________________________________________\n",
            "concatenate_25 (Concatenate)    (None, 16)           0           gru_10[0][0]                     \n",
            "                                                                 gru_10[1][0]                     \n",
            "__________________________________________________________________________________________________\n",
            "dense_23 (Dense)                (None, 4)            68          concatenate_25[0][0]             \n",
            "__________________________________________________________________________________________________\n",
            "output (Dense)                  (None, 1)            5           dense_23[0][0]                   \n",
            "==================================================================================================\n",
            "Total params: 457\n",
            "Trainable params: 457\n",
            "Non-trainable params: 0\n",
            "__________________________________________________________________________________________________\n"
          ],
          "name": "stdout"
        }
      ]
    },
    {
      "cell_type": "code",
      "metadata": {
        "colab_type": "code",
        "id": "ZhzI9HR4wfeD",
        "colab": {}
      },
      "source": [
        "m3.compile(optimizer='adam', loss='mean_squared_error', metrics = ['mae'])\n",
        "\n",
        "# fit model\n",
        "h3 = m3.fit([X_home, X_away], [y], epochs=100, batch_size=32, validation_split = 0.2,\n",
        "                    callbacks = [EarlyStopping(monitor='val_mae', patience = 3, restore_best_weights=True)])"
      ],
      "execution_count": null,
      "outputs": []
    },
    {
      "cell_type": "markdown",
      "metadata": {
        "id": "1Go9vSC23hpK",
        "colab_type": "text"
      },
      "source": [
        "### View training history"
      ]
    },
    {
      "cell_type": "code",
      "metadata": {
        "id": "5iIPuY2oDtn9",
        "colab_type": "code",
        "colab": {
          "base_uri": "https://localhost:8080/",
          "height": 573
        },
        "outputId": "36ff5cad-7cd0-4d1e-eb1a-f4acd8be5291"
      },
      "source": [
        "import matplotlib.pyplot as plt\n",
        "\n",
        "# summarize history for accuracy\n",
        "plt.plot(h2.history['mae'])\n",
        "plt.plot(h2.history['val_mae'])\n",
        "plt.title('model MAE')\n",
        "plt.ylabel('MAE')\n",
        "plt.xlabel('epoch')\n",
        "plt.legend(['train', 'validation'], loc='upper left')\n",
        "plt.show()\n",
        "# summarize history for loss\n",
        "plt.plot(h3.history['loss'])\n",
        "plt.plot(h3.history['val_loss'])\n",
        "plt.title('model loss')\n",
        "plt.ylabel('loss')\n",
        "plt.xlabel('epoch')\n",
        "plt.legend(['train', 'validation'], loc='upper left')\n",
        "plt.show()"
      ],
      "execution_count": 95,
      "outputs": [
        {
          "output_type": "display_data",
          "data": {
            "image/png": "[encoded data removed]",
            "text/plain": [
              "<Figure size 432x288 with 1 Axes>"
            ]
          },
          "metadata": {
            "tags": [],
            "needs_background": "light"
          }
        },
        {
          "output_type": "display_data",
          "data": {
            "image/png": "[encoded data removed]",
            "text/plain": [
              "<Figure size 432x288 with 1 Axes>"
            ]
          },
          "metadata": {
            "tags": [],
            "needs_background": "light"
          }
        }
      ]
    },
    {
      "cell_type": "markdown",
      "metadata": {
        "id": "aB1tVYLu3k76",
        "colab_type": "text"
      },
      "source": [
        "### Examine predictions"
      ]
    },
    {
      "cell_type": "code",
      "metadata": {
        "id": "jhWXFLRkJy8n",
        "colab_type": "code",
        "colab": {
          "base_uri": "https://localhost:8080/",
          "height": 357
        },
        "outputId": "cab48822-e80c-4d2a-c322-654455fbfdb5"
      },
      "source": [
        "y_pred = m2.predict([X_home, X_away])\n",
        "plt.hist(y_pred)"
      ],
      "execution_count": 96,
      "outputs": [
        {
          "output_type": "execute_result",
          "data": {
            "text/plain": [
              "(array([139., 310., 245., 321., 317., 264., 262., 240., 221.,  93.]),\n",
              " array([-5.690571  , -3.7584178 , -1.826265  ,  0.10588799,  2.0380409 ,\n",
              "         3.9701939 ,  5.9023466 ,  7.8345    ,  9.766653  , 11.698806  ,\n",
              "        13.630959  ], dtype=float32),\n",
              " <a list of 10 Patch objects>)"
            ]
          },
          "metadata": {
            "tags": []
          },
          "execution_count": 96
        },
        {
          "output_type": "display_data",
          "data": {
            "image/png": "[encoded data removed]",
            "text/plain": [
              "<Figure size 432x288 with 1 Axes>"
            ]
          },
          "metadata": {
            "tags": [],
            "needs_background": "light"
          }
        }
      ]
    },
    {
      "cell_type": "code",
      "metadata": {
        "id": "aj8M0fSw1sFi",
        "colab_type": "code",
        "colab": {
          "base_uri": "https://localhost:8080/",
          "height": 283
        },
        "outputId": "1b45de57-4d73-4c91-d54f-07746f7b9362"
      },
      "source": [
        "import seaborn as sns\n",
        "\n",
        "sns.regplot(x=y_pred, y=y, lowess=True, line_kws={'color':'green'})"
      ],
      "execution_count": 104,
      "outputs": [
        {
          "output_type": "execute_result",
          "data": {
            "text/plain": [
              "<matplotlib.axes._subplots.AxesSubplot at 0x7f6f1464c710>"
            ]
          },
          "metadata": {
            "tags": []
          },
          "execution_count": 104
        },
        {
          "output_type": "display_data",
          "data": {
            "image/png": "[encoded data removed]",
            "text/plain": [
              "<Figure size 432x288 with 1 Axes>"
            ]
          },
          "metadata": {
            "tags": [],
            "needs_background": "light"
          }
        }
      ]
    }
  ]
}